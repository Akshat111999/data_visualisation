{
 "cells": [
  {
   "cell_type": "code",
   "execution_count": 1,
   "metadata": {},
   "outputs": [
    {
     "name": "stdout",
     "output_type": "stream",
     "text": [
      "Total words : \n"
     ]
    },
    {
     "data": {
      "text/plain": [
       "9232"
      ]
     },
     "execution_count": 1,
     "metadata": {},
     "output_type": "execute_result"
    }
   ],
   "source": [
    "import requests   # Using this module for getting scraped data \n",
    "\n",
    "\n",
    "url = 'https://www.allsides.com/media-bias/media-bias-ratings'\n",
    "str1 = requests.get(url).text\n",
    "c=0                         # c is counter for total words\n",
    "def word_count(str2):        # function counts total no. of words\n",
    "    counts = dict()\n",
    "    words = str2.split()\n",
    "    for word in words:\n",
    "        global c\n",
    "        c=c+1\n",
    "    return c\n",
    "print(\"Total words : \")\n",
    "word_count(str1)"
   ]
  },
  {
   "cell_type": "code",
   "execution_count": 2,
   "metadata": {},
   "outputs": [],
   "source": [
    "def word_c(str2):     # Function calculating frequency of each word\n",
    "    \n",
    "    counts = dict()\n",
    "    words = str2.split()\n",
    "\n",
    "    for word in words:\n",
    "        if word in counts:\n",
    "            counts[word] += 1\n",
    "            \n",
    "        else:\n",
    "            counts[word] = 1\n",
    "\n",
    "    return counts\n",
    "\n",
    "data_set=word_c(str1)"
   ]
  },
  {
   "cell_type": "code",
   "execution_count": 3,
   "metadata": {},
   "outputs": [
    {
     "data": {
      "text/plain": [
       "[(433, '<div'),\n",
       " (297, '</div>'),\n",
       " (123, '<li'),\n",
       " (107, '/>'),\n",
       " (105, 'the'),\n",
       " (100, 'class=\"star'),\n",
       " (88, 'rel=\"nofollow\"'),\n",
       " (84, 'class=\"views-field'),\n",
       " (81, 'class=\"menu__item'),\n",
       " (80, 'rate-btn\"'),\n",
       " (80, 'class=\"rate-button'),\n",
       " (80, '<td'),\n",
       " (80, '</td>'),\n",
       " (75, '<a'),\n",
       " (73, 'class=\"form-item'),\n",
       " (69, 'is-leaf'),\n",
       " (64, 'this'),\n",
       " (64, 'is'),\n",
       " (62, 'News'),\n",
       " (61, '<input')]"
      ]
     },
     "execution_count": 3,
     "metadata": {},
     "output_type": "execute_result"
    }
   ],
   "source": [
    "import itertools\n",
    "def sortFreqDict(freqdict):                          # Fxn for sorting the wordcount as per frequency\n",
    "    aux = [(freqdict[key], key) for key in freqdict]\n",
    "    aux.sort()\n",
    "    aux.reverse()\n",
    "    return aux\n",
    "sortedList=sortFreqDict(data_set)\n",
    "type(sortedList)\n",
    "\n",
    "sortedList[:20]      # Displaying top 20 repeated words"
   ]
  },
  {
   "cell_type": "code",
   "execution_count": 5,
   "metadata": {},
   "outputs": [
    {
     "data": {
      "image/png": "[encoded data removed]",
      "text/plain": [
       "<Figure size 432x288 with 1 Axes>"
      ]
     },
     "metadata": {
      "needs_background": "light"
     },
     "output_type": "display_data"
    }
   ],
   "source": [
    "import matplotlib.pyplot as plt\n",
    "import numpy as np\n",
    "\n",
    "arr = np.array(sortedList)    #list indices must be integers or slices, not tuple\n",
    "x = arr[0:10,0]   # Selecting first 10 rows and 1st column\n",
    "y = arr[0:10,1]   # Selecting first 10 rows and 2nd column\n",
    "# Plotting a colorful scatter plot\n",
    "N=10\n",
    "colors = np.random.rand(N)\n",
    "plt.scatter(x, y, c=colors, alpha=0.5)\n",
    "plt.show()\n"
   ]
  },
  {
   "cell_type": "code",
   "execution_count": null,
   "metadata": {},
   "outputs": [],
   "source": []
  }
 ],
 "metadata": {
  "kernelspec": {
   "display_name": "Python 3",
   "language": "python",
   "name": "python3"
  },
  "language_info": {
   "codemirror_mode": {
    "name": "ipython",
    "version": 3
   },
   "file_extension": ".py",
   "mimetype": "text/x-python",
   "name": "python",
   "nbconvert_exporter": "python",
   "pygments_lexer": "ipython3",
   "version": "3.7.3"
  }
 },
 "nbformat": 4,
 "nbformat_minor": 2
}
